{
 "cells": [
  {
   "cell_type": "markdown",
   "id": "1af70d8c",
   "metadata": {},
   "source": [
    "# Load and Segment Continuous EEG Data"
   ]
  },
  {
   "cell_type": "code",
   "execution_count": 2,
   "id": "96d00cb5",
   "metadata": {},
   "outputs": [],
   "source": [
    "import numpy as np\n",
    "import mne # load necessary modules\n",
    "import matplotlib.pyplot as plt"
   ]
  },
  {
   "cell_type": "code",
   "execution_count": 3,
   "id": "8ba1b849",
   "metadata": {},
   "outputs": [],
   "source": [
    "# Determine location of sample file or data\n",
    "sample_data_folder = \"../files\"\n",
    "sample_data_file = f\"{sample_data_folder}/S001/S001R01.edf\""
   ]
  },
  {
   "cell_type": "markdown",
   "id": "0803f927",
   "metadata": {},
   "source": [
    "## Read in raw data; raw objects"
   ]
  },
  {
   "cell_type": "code",
   "execution_count": 4,
   "id": "b27738bf",
   "metadata": {},
   "outputs": [
    {
     "name": "stdout",
     "output_type": "stream",
     "text": [
      "Extracting EDF parameters from /Users/rusham/Documents/VinjamuriLabTings/ClassificationProject/files/S001/S001R01.edf...\n",
      "EDF file detected\n",
      "Setting channel info structure...\n",
      "Creating raw.info structure...\n"
     ]
    }
   ],
   "source": [
    "# Read raw data using mne\n",
    "raw = mne.io.read_raw_edf(sample_data_file)"
   ]
  },
  {
   "cell_type": "markdown",
   "id": "ef1f6480",
   "metadata": {},
   "source": [
    "Mine is object oriented. Objects have corresponding methods. Check `raw.` to see different methods that can be used from `raw`"
   ]
  },
  {
   "cell_type": "code",
   "execution_count": 5,
   "id": "671b153d",
   "metadata": {},
   "outputs": [
    {
     "data": {
      "text/plain": [
       "['__class__',\n",
       " '__contains__',\n",
       " '__del__',\n",
       " '__delattr__',\n",
       " '__dict__',\n",
       " '__dir__',\n",
       " '__doc__',\n",
       " '__enter__',\n",
       " '__eq__',\n",
       " '__exit__',\n",
       " '__firstlineno__',\n",
       " '__format__',\n",
       " '__ge__',\n",
       " '__getattribute__',\n",
       " '__getitem__',\n",
       " '__getstate__',\n",
       " '__gt__',\n",
       " '__hash__',\n",
       " '__init__',\n",
       " '__init_subclass__',\n",
       " '__le__',\n",
       " '__len__',\n",
       " '__lt__',\n",
       " '__module__',\n",
       " '__ne__',\n",
       " '__new__',\n",
       " '__reduce__',\n",
       " '__reduce_ex__',\n",
       " '__repr__',\n",
       " '__setattr__',\n",
       " '__setitem__',\n",
       " '__sizeof__',\n",
       " '__static_attributes__',\n",
       " '__str__',\n",
       " '__subclasshook__',\n",
       " '__weakref__',\n",
       " '_annotations',\n",
       " '_cals',\n",
       " '_check_bad_segment',\n",
       " '_comp',\n",
       " '_cropped_samp',\n",
       " '_dtype',\n",
       " '_dtype_',\n",
       " '_extra_attributes',\n",
       " '_filenames',\n",
       " '_first_samps',\n",
       " '_first_time',\n",
       " '_get_buffer_size',\n",
       " '_get_channel_positions',\n",
       " '_get_duration_string',\n",
       " '_getitem',\n",
       " '_handle_tmin_tmax',\n",
       " '_init_kwargs',\n",
       " '_last_samps',\n",
       " '_last_time',\n",
       " '_orig_units',\n",
       " '_parse_get_set_params',\n",
       " '_pick_drop_channels',\n",
       " '_pick_projs',\n",
       " '_preload_data',\n",
       " '_projector',\n",
       " '_raw_extras',\n",
       " '_raw_lengths',\n",
       " '_read_comp_grade',\n",
       " '_read_picks',\n",
       " '_read_segment',\n",
       " '_read_segment_file',\n",
       " '_reconstruct_proj',\n",
       " '_repr_html_',\n",
       " '_set_channel_positions',\n",
       " '_set_legacy_nfft_default',\n",
       " '_set_times',\n",
       " '_size',\n",
       " '_tmin_tmax_to_start_stop',\n",
       " 'add_channels',\n",
       " 'add_events',\n",
       " 'add_proj',\n",
       " 'add_reference_channels',\n",
       " 'annotations',\n",
       " 'anonymize',\n",
       " 'append',\n",
       " 'apply_function',\n",
       " 'apply_gradient_compensation',\n",
       " 'apply_hilbert',\n",
       " 'apply_proj',\n",
       " 'buffer_size_sec',\n",
       " 'ch_names',\n",
       " 'close',\n",
       " 'compensation_grade',\n",
       " 'compute_psd',\n",
       " 'compute_tfr',\n",
       " 'copy',\n",
       " 'crop',\n",
       " 'crop_by_annotations',\n",
       " 'del_proj',\n",
       " 'describe',\n",
       " 'drop_channels',\n",
       " 'duration',\n",
       " 'export',\n",
       " 'filenames',\n",
       " 'filter',\n",
       " 'first_samp',\n",
       " 'first_time',\n",
       " 'get_channel_types',\n",
       " 'get_data',\n",
       " 'get_montage',\n",
       " 'info',\n",
       " 'interpolate_bads',\n",
       " 'last_samp',\n",
       " 'load_bad_channels',\n",
       " 'load_data',\n",
       " 'n_times',\n",
       " 'notch_filter',\n",
       " 'orig_format',\n",
       " 'pick',\n",
       " 'pick_channels',\n",
       " 'pick_types',\n",
       " 'plot',\n",
       " 'plot_projs_topomap',\n",
       " 'plot_psd',\n",
       " 'plot_psd_topo',\n",
       " 'plot_psd_topomap',\n",
       " 'plot_sensors',\n",
       " 'preload',\n",
       " 'proj',\n",
       " 'rename_channels',\n",
       " 'reorder_channels',\n",
       " 'resample',\n",
       " 'rescale',\n",
       " 'save',\n",
       " 'savgol_filter',\n",
       " 'set_annotations',\n",
       " 'set_channel_types',\n",
       " 'set_eeg_reference',\n",
       " 'set_meas_date',\n",
       " 'set_montage',\n",
       " 'time_as_index',\n",
       " 'times',\n",
       " 'to_data_frame']"
      ]
     },
     "execution_count": 5,
     "metadata": {},
     "output_type": "execute_result"
    }
   ],
   "source": [
    "dir(raw) #shows you what kind of methods the raw data has"
   ]
  },
  {
   "cell_type": "code",
   "execution_count": 7,
   "id": "add742b3",
   "metadata": {},
   "outputs": [
    {
     "data": {
      "text/plain": [
       "<bound method crop of <RawEDF | S001R01.edf, 64 x 9760 (61.0 s), ~53 KiB, data not loaded>>"
      ]
     },
     "execution_count": 7,
     "metadata": {},
     "output_type": "execute_result"
    }
   ],
   "source": [
    "raw.crop # give information on crop() method"
   ]
  }
 ],
 "metadata": {
  "kernelspec": {
   "display_name": "binary",
   "language": "python",
   "name": "python3"
  },
  "language_info": {
   "codemirror_mode": {
    "name": "ipython",
    "version": 3
   },
   "file_extension": ".py",
   "mimetype": "text/x-python",
   "name": "python",
   "nbconvert_exporter": "python",
   "pygments_lexer": "ipython3",
   "version": "3.13.2"
  }
 },
 "nbformat": 4,
 "nbformat_minor": 5
}
